{
  "cells": [
    {
      "cell_type": "markdown",
      "metadata": {},
      "source": [
        "# 🤖 Human-AI Trust Laboratory\n",
        "\n",
        "*Build and break trust with AI agents that learn from your behavior!*\n",
        "\n",
        "This implementation explores:\n",
        "- Transparent belief state architectures for AI agents\n",
        "- Adaptive trust calibration based on behavioral monitoring\n",
        "- Multiple AI strategies representing different alignment approaches\n",
        "\n",
        "Based on research in Multi-Objective Reinforcement Learning (MORL) and adaptive trust frameworks."
      ]
    },
    {
      "cell_type": "code",
      "execution_count": null,
      "metadata": {},
      "outputs": [],
      "source": [
        "# Install required packages\n",
        "!pip install plotly pandas numpy ipywidgets -q"
      ]
    },
    {
      "cell_type": "code",
      "execution_count": null,
      "metadata": {},
      "outputs": [],
      "source": [
        "#@title 🤖 Human-AI Trust Laboratory { display-mode: \"form\" }\n",
        "#@markdown Build and break trust with AI agents that learn from your behavior!\n",
        "\n",
        "import numpy as np\n",
        "import pandas as pd\n",
        "import plotly.graph_objects as go\n",
        "from plotly.subplots import make_subplots\n",
        "import ipywidgets as widgets\n",
        "from IPython.display import display, clear_output\n",
        "from collections import deque\n",
        "import time\n",
        "\n",
        "# Trust-based color scheme\n",
        "AI_COLORS = {\n",
        "    'confident': '#00D9FF',      # Bright cyan\n",
        "    'learning': '#FFD23F',       # Yellow\n",
        "    'cautious': '#FF6B6B',       # Red\n",
        "    'human': '#4ECDC4',          # Teal\n",
        "    'neutral': '#E8E8E8'         # Light gray\n",
        "}\n",
        "\n",
        "class BeliefStateAgent:\n",
        "    \"\"\"AI agent with transparent belief states based on MORL principles\"\"\"\n",
        "    def __init__(self, name, learning_rate=0.1, memory_length=10):\n",
        "        self.name = name\n",
        "        self.learning_rate = learning_rate\n",
        "        self.memory_length = memory_length\n",
        "        self.trust_history = [0.5]  # Start neutral\n",
        "        \n",
        "        # Transparent belief state architecture\n",
        "        self.belief_state = {\n",
        "            'human_cooperativeness': 0.5,  # Estimated cooperation probability\n",
        "            'pattern_confidence': 0.0,      # Certainty about detected patterns\n",
        "            'risk_tolerance': 0.5,          # Wi
